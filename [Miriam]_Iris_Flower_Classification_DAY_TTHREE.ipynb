{
 "cells": [
  {
   "cell_type": "markdown",
   "id": "5f6ff371-781d-469c-8e8d-e1326f422177",
   "metadata": {},
   "source": [
    "# Iris Classification\n",
    "\n",
    "The dataset used is gotten from [UCI Machine Learning Respository](https://archive.ics.uci.edu/dataset/53/iris). The goal of the project is to predict the class of an iris flower based on its sepal length, sepal width, petal length and petal width.\n",
    "\n",
    "\n",
    "\n",
    "## **DAY ONE**: **Exploring a Dataset**"
   ]
  },
  {
   "cell_type": "markdown",
   "id": "058f2899-5558-4a15-95dd-760b30a78a8e",
   "metadata": {},
   "source": [
    "## Importing the Necessary Libraries"
   ]
  },
  {
   "cell_type": "code",
   "execution_count": 1,
   "id": "946a68df-da57-4b38-b4a1-b96c5d65612e",
   "metadata": {},
   "outputs": [],
   "source": [
    "import pandas as pd\n",
    "import matplotlib.pyplot as plt\n",
    "import seaborn as sns\n",
    "from sklearn.preprocessing import StandardScaler"
   ]
  },
  {
   "cell_type": "markdown",
   "id": "2492ded3-c4f7-48bc-8df5-f10c24d80972",
   "metadata": {},
   "source": [
    "## Data Importation\n",
    "\n",
    "In this section, we will be importing our dataset and performing data cleaning to fix missing values, outliers and conduct further analysis."
   ]
  },
  {
   "cell_type": "code",
   "execution_count": 2,
   "id": "83963448-be84-4eaa-bef4-50809b1695f7",
   "metadata": {},
   "outputs": [],
   "source": [
    "#using pandas as pd\n",
    "data = pd.read_csv(\"/workspaces/ECX-4.0-21-Days-Data-Science-Challenge/bezdekIris.data\")"
   ]
  },
  {
   "cell_type": "code",
   "execution_count": 3,
   "id": "0fc087b6-876c-44c6-bf69-0ec159f094f8",
   "metadata": {},
   "outputs": [
    {
     "data": {
      "text/html": [
       "<div>\n",
       "<style scoped>\n",
       "    .dataframe tbody tr th:only-of-type {\n",
       "        vertical-align: middle;\n",
       "    }\n",
       "\n",
       "    .dataframe tbody tr th {\n",
       "        vertical-align: top;\n",
       "    }\n",
       "\n",
       "    .dataframe thead th {\n",
       "        text-align: right;\n",
       "    }\n",
       "</style>\n",
       "<table border=\"1\" class=\"dataframe\">\n",
       "  <thead>\n",
       "    <tr style=\"text-align: right;\">\n",
       "      <th></th>\n",
       "      <th>5.1</th>\n",
       "      <th>3.5</th>\n",
       "      <th>1.4</th>\n",
       "      <th>0.2</th>\n",
       "      <th>Iris-setosa</th>\n",
       "    </tr>\n",
       "  </thead>\n",
       "  <tbody>\n",
       "    <tr>\n",
       "      <th>0</th>\n",
       "      <td>4.9</td>\n",
       "      <td>3.0</td>\n",
       "      <td>1.4</td>\n",
       "      <td>0.2</td>\n",
       "      <td>Iris-setosa</td>\n",
       "    </tr>\n",
       "    <tr>\n",
       "      <th>1</th>\n",
       "      <td>4.7</td>\n",
       "      <td>3.2</td>\n",
       "      <td>1.3</td>\n",
       "      <td>0.2</td>\n",
       "      <td>Iris-setosa</td>\n",
       "    </tr>\n",
       "    <tr>\n",
       "      <th>2</th>\n",
       "      <td>4.6</td>\n",
       "      <td>3.1</td>\n",
       "      <td>1.5</td>\n",
       "      <td>0.2</td>\n",
       "      <td>Iris-setosa</td>\n",
       "    </tr>\n",
       "    <tr>\n",
       "      <th>3</th>\n",
       "      <td>5.0</td>\n",
       "      <td>3.6</td>\n",
       "      <td>1.4</td>\n",
       "      <td>0.2</td>\n",
       "      <td>Iris-setosa</td>\n",
       "    </tr>\n",
       "    <tr>\n",
       "      <th>4</th>\n",
       "      <td>5.4</td>\n",
       "      <td>3.9</td>\n",
       "      <td>1.7</td>\n",
       "      <td>0.4</td>\n",
       "      <td>Iris-setosa</td>\n",
       "    </tr>\n",
       "  </tbody>\n",
       "</table>\n",
       "</div>"
      ],
      "text/plain": [
       "   5.1  3.5  1.4  0.2  Iris-setosa\n",
       "0  4.9  3.0  1.4  0.2  Iris-setosa\n",
       "1  4.7  3.2  1.3  0.2  Iris-setosa\n",
       "2  4.6  3.1  1.5  0.2  Iris-setosa\n",
       "3  5.0  3.6  1.4  0.2  Iris-setosa\n",
       "4  5.4  3.9  1.7  0.4  Iris-setosa"
      ]
     },
     "execution_count": 3,
     "metadata": {},
     "output_type": "execute_result"
    }
   ],
   "source": [
    "#getting the first 5 content of our data\n",
    "data.head()"
   ]
  },
  {
   "cell_type": "code",
   "execution_count": 4,
   "id": "4bdfd432-aaa7-4436-9081-e99ff6b3e2b5",
   "metadata": {},
   "outputs": [
    {
     "data": {
      "text/plain": [
       "(149, 5)"
      ]
     },
     "execution_count": 4,
     "metadata": {},
     "output_type": "execute_result"
    }
   ],
   "source": [
    "#getting the shape\n",
    "data.shape"
   ]
  },
  {
   "cell_type": "code",
   "execution_count": 5,
   "id": "1dbbdb3e-adbb-47ee-9ddd-fbe7232514f9",
   "metadata": {},
   "outputs": [
    {
     "name": "stdout",
     "output_type": "stream",
     "text": [
      "<class 'pandas.core.frame.DataFrame'>\n",
      "RangeIndex: 149 entries, 0 to 148\n",
      "Data columns (total 5 columns):\n",
      " #   Column       Non-Null Count  Dtype  \n",
      "---  ------       --------------  -----  \n",
      " 0   5.1          149 non-null    float64\n",
      " 1   3.5          149 non-null    float64\n",
      " 2   1.4          149 non-null    float64\n",
      " 3   0.2          149 non-null    float64\n",
      " 4   Iris-setosa  149 non-null    object \n",
      "dtypes: float64(4), object(1)\n",
      "memory usage: 5.9+ KB\n"
     ]
    }
   ],
   "source": [
    "#getting the information summary on our dataset\n",
    "data.info()"
   ]
  },
  {
   "cell_type": "code",
   "execution_count": 6,
   "id": "9502cd7b-0a4c-448d-8ba4-df1e8805e7dc",
   "metadata": {},
   "outputs": [
    {
     "data": {
      "text/plain": [
       "5.1            0\n",
       "3.5            0\n",
       "1.4            0\n",
       "0.2            0\n",
       "Iris-setosa    0\n",
       "dtype: int64"
      ]
     },
     "execution_count": 6,
     "metadata": {},
     "output_type": "execute_result"
    }
   ],
   "source": [
    "#checking to see if we have missing values in our dataset\n",
    "data.isnull().sum()"
   ]
  },
  {
   "cell_type": "markdown",
   "id": "fa2762b3-a874-4df9-b541-53430e3ea6ef",
   "metadata": {},
   "source": [
    "Fortunately we have no missing values if we did we will have to use the SimpleImputer from the scikit-learn library to fill up our missing values. \n",
    "`from sklearn.impute import SimpleImputer`"
   ]
  },
  {
   "cell_type": "markdown",
   "id": "850564c5-1486-4f25-af90-836ca2d4da23",
   "metadata": {},
   "source": [
    "## **DAY TWO**: **Exploring a Dataset**"
   ]
  },
  {
   "cell_type": "markdown",
   "id": "f8eed3c5-3e02-4d66-9897-c4297bfc980c",
   "metadata": {},
   "source": [
    "Below are the names of each column: 5.1 : Sepal Length 3.5: Sepal Width 1.4: Petal Length 0.2: Petal Width\n",
    "\n",
    "In the next cell of code will be changing the names\n"
   ]
  },
  {
   "cell_type": "code",
   "execution_count": 7,
   "id": "84e01067-d10c-4a12-a25d-7be386b95049",
   "metadata": {},
   "outputs": [],
   "source": [
    "#map for new column names\n",
    "new_col_names = {\n",
    "    \"5.1\": \"Sepal_length\",\n",
    "    \"3.5\": \"Sepal_width\",\n",
    "    \"1.4\": \"Petal_length\",\n",
    "    \"0.2\": \"Petal_width\"\n",
    "}"
   ]
  },
  {
   "cell_type": "code",
   "execution_count": 8,
   "id": "6d9e3762-eeb2-426d-b4ca-c228619175f1",
   "metadata": {},
   "outputs": [],
   "source": [
    "# Rename columns using the rename() function\n",
    "data.rename(columns=new_col_names, inplace=True)"
   ]
  },
  {
   "cell_type": "code",
   "execution_count": 9,
   "id": "99db9a21-f899-4785-bc59-ed6757982938",
   "metadata": {},
   "outputs": [
    {
     "data": {
      "text/html": [
       "<div>\n",
       "<style scoped>\n",
       "    .dataframe tbody tr th:only-of-type {\n",
       "        vertical-align: middle;\n",
       "    }\n",
       "\n",
       "    .dataframe tbody tr th {\n",
       "        vertical-align: top;\n",
       "    }\n",
       "\n",
       "    .dataframe thead th {\n",
       "        text-align: right;\n",
       "    }\n",
       "</style>\n",
       "<table border=\"1\" class=\"dataframe\">\n",
       "  <thead>\n",
       "    <tr style=\"text-align: right;\">\n",
       "      <th></th>\n",
       "      <th>Sepal_length</th>\n",
       "      <th>Sepal_width</th>\n",
       "      <th>Petal_length</th>\n",
       "      <th>Petal_width</th>\n",
       "      <th>Iris-setosa</th>\n",
       "    </tr>\n",
       "  </thead>\n",
       "  <tbody>\n",
       "    <tr>\n",
       "      <th>0</th>\n",
       "      <td>4.9</td>\n",
       "      <td>3.0</td>\n",
       "      <td>1.4</td>\n",
       "      <td>0.2</td>\n",
       "      <td>Iris-setosa</td>\n",
       "    </tr>\n",
       "    <tr>\n",
       "      <th>1</th>\n",
       "      <td>4.7</td>\n",
       "      <td>3.2</td>\n",
       "      <td>1.3</td>\n",
       "      <td>0.2</td>\n",
       "      <td>Iris-setosa</td>\n",
       "    </tr>\n",
       "    <tr>\n",
       "      <th>2</th>\n",
       "      <td>4.6</td>\n",
       "      <td>3.1</td>\n",
       "      <td>1.5</td>\n",
       "      <td>0.2</td>\n",
       "      <td>Iris-setosa</td>\n",
       "    </tr>\n",
       "    <tr>\n",
       "      <th>3</th>\n",
       "      <td>5.0</td>\n",
       "      <td>3.6</td>\n",
       "      <td>1.4</td>\n",
       "      <td>0.2</td>\n",
       "      <td>Iris-setosa</td>\n",
       "    </tr>\n",
       "    <tr>\n",
       "      <th>4</th>\n",
       "      <td>5.4</td>\n",
       "      <td>3.9</td>\n",
       "      <td>1.7</td>\n",
       "      <td>0.4</td>\n",
       "      <td>Iris-setosa</td>\n",
       "    </tr>\n",
       "  </tbody>\n",
       "</table>\n",
       "</div>"
      ],
      "text/plain": [
       "   Sepal_length  Sepal_width  Petal_length  Petal_width  Iris-setosa\n",
       "0           4.9          3.0           1.4          0.2  Iris-setosa\n",
       "1           4.7          3.2           1.3          0.2  Iris-setosa\n",
       "2           4.6          3.1           1.5          0.2  Iris-setosa\n",
       "3           5.0          3.6           1.4          0.2  Iris-setosa\n",
       "4           5.4          3.9           1.7          0.4  Iris-setosa"
      ]
     },
     "execution_count": 9,
     "metadata": {},
     "output_type": "execute_result"
    }
   ],
   "source": [
    "#checking to confirm changes\n",
    "data.head()"
   ]
  },
  {
   "cell_type": "code",
   "execution_count": 10,
   "id": "9437c25b-d044-4103-87e5-b2db30125671",
   "metadata": {},
   "outputs": [
    {
     "data": {
      "text/html": [
       "<div>\n",
       "<style scoped>\n",
       "    .dataframe tbody tr th:only-of-type {\n",
       "        vertical-align: middle;\n",
       "    }\n",
       "\n",
       "    .dataframe tbody tr th {\n",
       "        vertical-align: top;\n",
       "    }\n",
       "\n",
       "    .dataframe thead th {\n",
       "        text-align: right;\n",
       "    }\n",
       "</style>\n",
       "<table border=\"1\" class=\"dataframe\">\n",
       "  <thead>\n",
       "    <tr style=\"text-align: right;\">\n",
       "      <th></th>\n",
       "      <th>count</th>\n",
       "      <th>mean</th>\n",
       "      <th>std</th>\n",
       "      <th>min</th>\n",
       "      <th>25%</th>\n",
       "      <th>50%</th>\n",
       "      <th>75%</th>\n",
       "      <th>max</th>\n",
       "    </tr>\n",
       "  </thead>\n",
       "  <tbody>\n",
       "    <tr>\n",
       "      <th>Sepal_length</th>\n",
       "      <td>149.0</td>\n",
       "      <td>5.848322</td>\n",
       "      <td>0.828594</td>\n",
       "      <td>4.3</td>\n",
       "      <td>5.1</td>\n",
       "      <td>5.8</td>\n",
       "      <td>6.4</td>\n",
       "      <td>7.9</td>\n",
       "    </tr>\n",
       "    <tr>\n",
       "      <th>Sepal_width</th>\n",
       "      <td>149.0</td>\n",
       "      <td>3.054362</td>\n",
       "      <td>0.435810</td>\n",
       "      <td>2.0</td>\n",
       "      <td>2.8</td>\n",
       "      <td>3.0</td>\n",
       "      <td>3.3</td>\n",
       "      <td>4.4</td>\n",
       "    </tr>\n",
       "    <tr>\n",
       "      <th>Petal_length</th>\n",
       "      <td>149.0</td>\n",
       "      <td>3.773826</td>\n",
       "      <td>1.760543</td>\n",
       "      <td>1.0</td>\n",
       "      <td>1.6</td>\n",
       "      <td>4.4</td>\n",
       "      <td>5.1</td>\n",
       "      <td>6.9</td>\n",
       "    </tr>\n",
       "    <tr>\n",
       "      <th>Petal_width</th>\n",
       "      <td>149.0</td>\n",
       "      <td>1.206040</td>\n",
       "      <td>0.760354</td>\n",
       "      <td>0.1</td>\n",
       "      <td>0.3</td>\n",
       "      <td>1.3</td>\n",
       "      <td>1.8</td>\n",
       "      <td>2.5</td>\n",
       "    </tr>\n",
       "  </tbody>\n",
       "</table>\n",
       "</div>"
      ],
      "text/plain": [
       "              count      mean       std  min  25%  50%  75%  max\n",
       "Sepal_length  149.0  5.848322  0.828594  4.3  5.1  5.8  6.4  7.9\n",
       "Sepal_width   149.0  3.054362  0.435810  2.0  2.8  3.0  3.3  4.4\n",
       "Petal_length  149.0  3.773826  1.760543  1.0  1.6  4.4  5.1  6.9\n",
       "Petal_width   149.0  1.206040  0.760354  0.1  0.3  1.3  1.8  2.5"
      ]
     },
     "execution_count": 10,
     "metadata": {},
     "output_type": "execute_result"
    }
   ],
   "source": [
    "#getting the statistics summary on our dataset\n",
    "data.describe().T"
   ]
  },
  {
   "cell_type": "markdown",
   "id": "3567c926-15cb-4a4d-bf44-96b7b47415f4",
   "metadata": {},
   "source": [
    "Since we are dealing with numerical features that are different in terms of scale, I will be using the standard scaler from sklearn to standardize our features so that they have a common mean of 0 and standard deviation of one "
   ]
  },
  {
   "cell_type": "code",
   "execution_count": 11,
   "id": "6e257f30-a28e-41f7-bb1b-28cf70f71726",
   "metadata": {},
   "outputs": [
    {
     "data": {
      "text/plain": [
       "Sepal_length    float64\n",
       "Sepal_width     float64\n",
       "Petal_length    float64\n",
       "Petal_width     float64\n",
       "Iris-setosa      object\n",
       "dtype: object"
      ]
     },
     "execution_count": 11,
     "metadata": {},
     "output_type": "execute_result"
    }
   ],
   "source": [
    "data.dtypes"
   ]
  },
  {
   "cell_type": "code",
   "execution_count": 12,
   "id": "7f38fd68-b0c8-49ee-ade3-b8820822afc2",
   "metadata": {},
   "outputs": [
    {
     "name": "stdout",
     "output_type": "stream",
     "text": [
      "Sepal_length\n",
      "5.0    10\n",
      "6.3     9\n",
      "6.7     8\n",
      "5.1     8\n",
      "5.7     8\n",
      "5.8     7\n",
      "5.5     7\n",
      "6.4     7\n",
      "5.6     6\n",
      "5.4     6\n",
      "6.1     6\n",
      "6.0     6\n",
      "4.9     6\n",
      "6.5     5\n",
      "4.8     5\n",
      "6.2     4\n",
      "7.7     4\n",
      "6.9     4\n",
      "5.2     4\n",
      "4.6     4\n",
      "4.4     3\n",
      "5.9     3\n",
      "7.2     3\n",
      "6.8     3\n",
      "4.7     2\n",
      "6.6     2\n",
      "4.3     1\n",
      "7.0     1\n",
      "4.5     1\n",
      "7.1     1\n",
      "7.6     1\n",
      "7.3     1\n",
      "5.3     1\n",
      "7.4     1\n",
      "7.9     1\n",
      "Name: count, dtype: int64\n",
      "Sepal_width\n",
      "3.0    26\n",
      "2.8    14\n",
      "3.2    13\n",
      "3.4    12\n",
      "3.1    11\n",
      "2.9    10\n",
      "2.7     9\n",
      "2.5     8\n",
      "3.3     6\n",
      "3.8     6\n",
      "3.5     5\n",
      "2.6     5\n",
      "2.3     4\n",
      "3.6     4\n",
      "3.7     3\n",
      "2.4     3\n",
      "2.2     3\n",
      "3.9     2\n",
      "4.4     1\n",
      "4.0     1\n",
      "4.1     1\n",
      "4.2     1\n",
      "2.0     1\n",
      "Name: count, dtype: int64\n",
      "Petal_length\n",
      "1.5    13\n",
      "1.4    12\n",
      "5.1     8\n",
      "4.5     8\n",
      "1.6     7\n",
      "1.3     7\n",
      "5.6     6\n",
      "4.7     5\n",
      "4.9     5\n",
      "4.0     5\n",
      "4.2     4\n",
      "5.0     4\n",
      "4.4     4\n",
      "4.8     4\n",
      "1.7     4\n",
      "3.9     3\n",
      "4.6     3\n",
      "5.7     3\n",
      "4.1     3\n",
      "5.5     3\n",
      "6.1     3\n",
      "5.8     3\n",
      "3.3     2\n",
      "5.4     2\n",
      "6.7     2\n",
      "5.3     2\n",
      "5.9     2\n",
      "6.0     2\n",
      "1.2     2\n",
      "4.3     2\n",
      "1.9     2\n",
      "3.5     2\n",
      "5.2     2\n",
      "3.0     1\n",
      "1.1     1\n",
      "3.7     1\n",
      "3.8     1\n",
      "6.6     1\n",
      "6.3     1\n",
      "1.0     1\n",
      "6.9     1\n",
      "3.6     1\n",
      "6.4     1\n",
      "Name: count, dtype: int64\n",
      "Petal_width\n",
      "0.2    28\n",
      "1.3    13\n",
      "1.8    12\n",
      "1.5    12\n",
      "1.4     8\n",
      "2.3     8\n",
      "1.0     7\n",
      "0.4     7\n",
      "0.3     7\n",
      "2.1     6\n",
      "2.0     6\n",
      "0.1     5\n",
      "1.2     5\n",
      "1.9     5\n",
      "1.6     4\n",
      "2.5     3\n",
      "2.2     3\n",
      "2.4     3\n",
      "1.1     3\n",
      "1.7     2\n",
      "0.6     1\n",
      "0.5     1\n",
      "Name: count, dtype: int64\n",
      "Iris-setosa\n",
      "Iris-versicolor    50\n",
      "Iris-virginica     50\n",
      "Iris-setosa        49\n",
      "Name: count, dtype: int64\n"
     ]
    }
   ],
   "source": [
    "#checking the distribution of our features\n",
    "for col in data.columns:\n",
    "    print(data[col].value_counts())"
   ]
  },
  {
   "cell_type": "code",
   "execution_count": 13,
   "id": "96b3f367-fed7-4b44-b2b6-cc728d4a598b",
   "metadata": {},
   "outputs": [],
   "source": [
    "#initializing our standard scaler\n",
    "scaler = StandardScaler()"
   ]
  },
  {
   "cell_type": "code",
   "execution_count": 14,
   "id": "a6342e15-a933-4d34-8c1d-c1420b937262",
   "metadata": {},
   "outputs": [],
   "source": [
    "#getting our numeric features only\n",
    "numeric_features = [column for column in data.columns if data[column].dtypes in [\"float64\",\"int64\"]]"
   ]
  },
  {
   "cell_type": "code",
   "execution_count": 15,
   "id": "ddef37fb-90d6-4c8d-a82b-d99643b5c9d7",
   "metadata": {},
   "outputs": [
    {
     "data": {
      "text/plain": [
       "['Sepal_length', 'Sepal_width', 'Petal_length', 'Petal_width']"
      ]
     },
     "execution_count": 15,
     "metadata": {},
     "output_type": "execute_result"
    }
   ],
   "source": [
    "numeric_features"
   ]
  },
  {
   "cell_type": "code",
   "execution_count": 16,
   "id": "b85815e7-9880-42ec-b655-654eaccb7fee",
   "metadata": {},
   "outputs": [],
   "source": [
    "#fitting and transforming our numeric features\n",
    "num_scaled = scaler.fit_transform(data[numeric_features])"
   ]
  },
  {
   "cell_type": "code",
   "execution_count": 18,
   "id": "d720067e-17ee-4374-8cc1-3cac2e6733e0",
   "metadata": {},
   "outputs": [],
   "source": [
    "#accessing our scaled features into a DataFrame\n",
    "scaled_df = pd.DataFrame(num_scaled, columns=numeric_features)"
   ]
  },
  {
   "cell_type": "code",
   "execution_count": 19,
   "id": "01b8eea0-3475-4cff-8efd-acbf060b8292",
   "metadata": {},
   "outputs": [
    {
     "data": {
      "text/html": [
       "<div>\n",
       "<style scoped>\n",
       "    .dataframe tbody tr th:only-of-type {\n",
       "        vertical-align: middle;\n",
       "    }\n",
       "\n",
       "    .dataframe tbody tr th {\n",
       "        vertical-align: top;\n",
       "    }\n",
       "\n",
       "    .dataframe thead th {\n",
       "        text-align: right;\n",
       "    }\n",
       "</style>\n",
       "<table border=\"1\" class=\"dataframe\">\n",
       "  <thead>\n",
       "    <tr style=\"text-align: right;\">\n",
       "      <th></th>\n",
       "      <th>Sepal_length</th>\n",
       "      <th>Sepal_width</th>\n",
       "      <th>Petal_length</th>\n",
       "      <th>Petal_width</th>\n",
       "    </tr>\n",
       "  </thead>\n",
       "  <tbody>\n",
       "    <tr>\n",
       "      <th>0</th>\n",
       "      <td>-1.148356</td>\n",
       "      <td>-0.125160</td>\n",
       "      <td>-1.352896</td>\n",
       "      <td>-1.327583</td>\n",
       "    </tr>\n",
       "    <tr>\n",
       "      <th>1</th>\n",
       "      <td>-1.390542</td>\n",
       "      <td>0.335304</td>\n",
       "      <td>-1.409888</td>\n",
       "      <td>-1.327583</td>\n",
       "    </tr>\n",
       "    <tr>\n",
       "      <th>2</th>\n",
       "      <td>-1.511636</td>\n",
       "      <td>0.105072</td>\n",
       "      <td>-1.295904</td>\n",
       "      <td>-1.327583</td>\n",
       "    </tr>\n",
       "    <tr>\n",
       "      <th>3</th>\n",
       "      <td>-1.027262</td>\n",
       "      <td>1.256231</td>\n",
       "      <td>-1.352896</td>\n",
       "      <td>-1.327583</td>\n",
       "    </tr>\n",
       "    <tr>\n",
       "      <th>4</th>\n",
       "      <td>-0.542889</td>\n",
       "      <td>1.946927</td>\n",
       "      <td>-1.181919</td>\n",
       "      <td>-1.063660</td>\n",
       "    </tr>\n",
       "  </tbody>\n",
       "</table>\n",
       "</div>"
      ],
      "text/plain": [
       "   Sepal_length  Sepal_width  Petal_length  Petal_width\n",
       "0     -1.148356    -0.125160     -1.352896    -1.327583\n",
       "1     -1.390542     0.335304     -1.409888    -1.327583\n",
       "2     -1.511636     0.105072     -1.295904    -1.327583\n",
       "3     -1.027262     1.256231     -1.352896    -1.327583\n",
       "4     -0.542889     1.946927     -1.181919    -1.063660"
      ]
     },
     "execution_count": 19,
     "metadata": {},
     "output_type": "execute_result"
    }
   ],
   "source": [
    "scaled_df.head()"
   ]
  },
  {
   "cell_type": "markdown",
   "id": "b81e8da2-dab8-4901-b22c-13e20e6f07a0",
   "metadata": {},
   "source": [
    "## **DAY THREE**: **Exploratory Data Analysis**"
   ]
  },
  {
   "cell_type": "markdown",
   "id": "07e5ba20-e4bd-46c3-b668-b839767220c3",
   "metadata": {},
   "source": [
    "I will be performing univariate, bivariate and correlation analysis on my dataset."
   ]
  },
  {
   "cell_type": "code",
   "execution_count": 20,
   "id": "fa02819e-a692-4a7c-97d1-cd36c202b450",
   "metadata": {},
   "outputs": [],
   "source": [
    "#combining the scaled features with my original dataframe and dropping the previous ones\n",
    "new_data = pd.concat([scaled_df,data.select_dtypes(exclude=['float64', 'int64'])], axis = 1)"
   ]
  },
  {
   "cell_type": "code",
   "execution_count": 21,
   "id": "ad1d4718-8641-471d-9b8c-2147f7783fbe",
   "metadata": {},
   "outputs": [
    {
     "data": {
      "text/html": [
       "<div>\n",
       "<style scoped>\n",
       "    .dataframe tbody tr th:only-of-type {\n",
       "        vertical-align: middle;\n",
       "    }\n",
       "\n",
       "    .dataframe tbody tr th {\n",
       "        vertical-align: top;\n",
       "    }\n",
       "\n",
       "    .dataframe thead th {\n",
       "        text-align: right;\n",
       "    }\n",
       "</style>\n",
       "<table border=\"1\" class=\"dataframe\">\n",
       "  <thead>\n",
       "    <tr style=\"text-align: right;\">\n",
       "      <th></th>\n",
       "      <th>Sepal_length</th>\n",
       "      <th>Sepal_width</th>\n",
       "      <th>Petal_length</th>\n",
       "      <th>Petal_width</th>\n",
       "      <th>Iris-setosa</th>\n",
       "    </tr>\n",
       "  </thead>\n",
       "  <tbody>\n",
       "    <tr>\n",
       "      <th>0</th>\n",
       "      <td>-1.148356</td>\n",
       "      <td>-0.125160</td>\n",
       "      <td>-1.352896</td>\n",
       "      <td>-1.327583</td>\n",
       "      <td>Iris-setosa</td>\n",
       "    </tr>\n",
       "    <tr>\n",
       "      <th>1</th>\n",
       "      <td>-1.390542</td>\n",
       "      <td>0.335304</td>\n",
       "      <td>-1.409888</td>\n",
       "      <td>-1.327583</td>\n",
       "      <td>Iris-setosa</td>\n",
       "    </tr>\n",
       "    <tr>\n",
       "      <th>2</th>\n",
       "      <td>-1.511636</td>\n",
       "      <td>0.105072</td>\n",
       "      <td>-1.295904</td>\n",
       "      <td>-1.327583</td>\n",
       "      <td>Iris-setosa</td>\n",
       "    </tr>\n",
       "    <tr>\n",
       "      <th>3</th>\n",
       "      <td>-1.027262</td>\n",
       "      <td>1.256231</td>\n",
       "      <td>-1.352896</td>\n",
       "      <td>-1.327583</td>\n",
       "      <td>Iris-setosa</td>\n",
       "    </tr>\n",
       "    <tr>\n",
       "      <th>4</th>\n",
       "      <td>-0.542889</td>\n",
       "      <td>1.946927</td>\n",
       "      <td>-1.181919</td>\n",
       "      <td>-1.063660</td>\n",
       "      <td>Iris-setosa</td>\n",
       "    </tr>\n",
       "  </tbody>\n",
       "</table>\n",
       "</div>"
      ],
      "text/plain": [
       "   Sepal_length  Sepal_width  Petal_length  Petal_width  Iris-setosa\n",
       "0     -1.148356    -0.125160     -1.352896    -1.327583  Iris-setosa\n",
       "1     -1.390542     0.335304     -1.409888    -1.327583  Iris-setosa\n",
       "2     -1.511636     0.105072     -1.295904    -1.327583  Iris-setosa\n",
       "3     -1.027262     1.256231     -1.352896    -1.327583  Iris-setosa\n",
       "4     -0.542889     1.946927     -1.181919    -1.063660  Iris-setosa"
      ]
     },
     "execution_count": 21,
     "metadata": {},
     "output_type": "execute_result"
    }
   ],
   "source": [
    "new_data.head()"
   ]
  },
  {
   "cell_type": "markdown",
   "id": "23414d47-2c5f-4ccb-9176-320c09ee3e02",
   "metadata": {},
   "source": [
    "**Univariate Analysis**"
   ]
  },
  {
   "cell_type": "code",
   "execution_count": 22,
   "id": "25ef7844-3790-4247-aa32-bceebe45d1df",
   "metadata": {},
   "outputs": [
    {
     "data": {
      "image/png": "[encoded data removed]",
      "text/plain": [
       "<Figure size 640x480 with 1 Axes>"
      ]
     },
     "metadata": {},
     "output_type": "display_data"
    },
    {
     "data": {
      "image/png": "[encoded data removed]",
      "text/plain": [
       "<Figure size 640x480 with 1 Axes>"
      ]
     },
     "metadata": {},
     "output_type": "display_data"
    },
    {
     "data": {
      "image/png": "[encoded data removed]",
      "text/plain": [
       "<Figure size 640x480 with 1 Axes>"
      ]
     },
     "metadata": {},
     "output_type": "display_data"
    },
    {
     "data": {
      "image/png": "[encoded data removed]",
      "text/plain": [
       "<Figure size 640x480 with 1 Axes>"
      ]
     },
     "metadata": {},
     "output_type": "display_data"
    }
   ],
   "source": [
    "#visualizing the numeric features in our dataset\n",
    "df = new_data.drop(\"Iris-setosa\", axis = 1)\n",
    "for col in df.columns:\n",
    "    sns.histplot(data = df, x = col, kde = True)\n",
    "    plt.title(f\"Distribution of {col}\")\n",
    "    plt.show();"
   ]
  },
  {
   "cell_type": "code",
   "execution_count": 23,
   "id": "fdb5cbd4-6006-448d-b08c-33193c4296f8",
   "metadata": {},
   "outputs": [
    {
     "data": {
      "image/png": "[encoded data removed]",
      "text/plain": [
       "<Figure size 640x480 with 1 Axes>"
      ]
     },
     "metadata": {},
     "output_type": "display_data"
    },
    {
     "data": {
      "image/png": "[encoded data removed]",
      "text/plain": [
       "<Figure size 640x480 with 1 Axes>"
      ]
     },
     "metadata": {},
     "output_type": "display_data"
    },
    {
     "data": {
      "image/png": "[encoded data removed]",
      "text/plain": [
       "<Figure size 640x480 with 1 Axes>"
      ]
     },
     "metadata": {},
     "output_type": "display_data"
    },
    {
     "data": {
      "image/png": "[encoded data removed]",
      "text/plain": [
       "<Figure size 640x480 with 1 Axes>"
      ]
     },
     "metadata": {},
     "output_type": "display_data"
    }
   ],
   "source": [
    "#using a boxplot to check for outliers\n",
    "for col in df.columns:\n",
    "    sns.boxplot(data = df, x = col)\n",
    "    plt.title(f\"Distribution of {col}\")\n",
    "    plt.show();"
   ]
  },
  {
   "cell_type": "code",
   "execution_count": null,
   "id": "d4f79474-2c1a-434d-b6f2-a16474d323be",
   "metadata": {},
   "outputs": [],
   "source": []
  }
 ],
 "metadata": {
  "kernelspec": {
   "display_name": "Python 3 (ipykernel)",
   "language": "python",
   "name": "python3"
  },
  "language_info": {
   "codemirror_mode": {
    "name": "ipython",
    "version": 3
   },
   "file_extension": ".py",
   "mimetype": "text/x-python",
   "name": "python",
   "nbconvert_exporter": "python",
   "pygments_lexer": "ipython3",
   "version": "3.10.13"
  }
 },
 "nbformat": 4,
 "nbformat_minor": 5
}
