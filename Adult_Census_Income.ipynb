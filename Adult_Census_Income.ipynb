{
 "cells": [
  {
   "cell_type": "markdown",
   "id": "5f6ff371-781d-469c-8e8d-e1326f422177",
   "metadata": {},
   "source": [
    "# Adult Census Income Prediction\n",
    "\n",
    "The dataset used is gotten from [UCI Machine Learning Respository](https://archive.ics.uci.edu/dataset/2/adult). The gola of the project is to predict whether income exceeds $50K/yr based on census data."
   ]
  },
  {
   "cell_type": "markdown",
   "id": "058f2899-5558-4a15-95dd-760b30a78a8e",
   "metadata": {},
   "source": [
    "## Importing the Necessary Libraries"
   ]
  },
  {
   "cell_type": "code",
   "execution_count": 1,
   "id": "946a68df-da57-4b38-b4a1-b96c5d65612e",
   "metadata": {},
   "outputs": [],
   "source": [
    "import pandas as pd\n",
    "import matplotlib.pyplot as plt\n",
    "import seaborn as sns"
   ]
  },
  {
   "cell_type": "markdown",
   "id": "2492ded3-c4f7-48bc-8df5-f10c24d80972",
   "metadata": {},
   "source": [
    "## Data Importation with Data Preprocessing\n",
    "\n",
    "In this section, we will be importing our dataset and performing data cleaning to fix missing values, outliers and conduct further analysis."
   ]
  },
  {
   "cell_type": "code",
   "execution_count": 2,
   "id": "83963448-be84-4eaa-bef4-50809b1695f7",
   "metadata": {},
   "outputs": [],
   "source": [
    "#using pandas as pd\n",
    "data = pd.read_csv(\"/workspaces/ECX-4.0-21-Days-Data-Science-Challenge/adult income1.csv\")"
   ]
  },
  {
   "cell_type": "code",
   "execution_count": 3,
   "id": "0fc087b6-876c-44c6-bf69-0ec159f094f8",
   "metadata": {},
   "outputs": [
    {
     "data": {
      "text/html": [
       "<div>\n",
       "<style scoped>\n",
       "    .dataframe tbody tr th:only-of-type {\n",
       "        vertical-align: middle;\n",
       "    }\n",
       "\n",
       "    .dataframe tbody tr th {\n",
       "        vertical-align: top;\n",
       "    }\n",
       "\n",
       "    .dataframe thead th {\n",
       "        text-align: right;\n",
       "    }\n",
       "</style>\n",
       "<table border=\"1\" class=\"dataframe\">\n",
       "  <thead>\n",
       "    <tr style=\"text-align: right;\">\n",
       "      <th></th>\n",
       "      <th>age</th>\n",
       "      <th>workclass</th>\n",
       "      <th>fnlwgt</th>\n",
       "      <th>education</th>\n",
       "      <th>education.num</th>\n",
       "      <th>marital.status</th>\n",
       "      <th>occupation</th>\n",
       "      <th>relationship</th>\n",
       "      <th>race</th>\n",
       "      <th>sex</th>\n",
       "      <th>native.country</th>\n",
       "      <th>income</th>\n",
       "    </tr>\n",
       "  </thead>\n",
       "  <tbody>\n",
       "    <tr>\n",
       "      <th>0</th>\n",
       "      <td>17</td>\n",
       "      <td>Private</td>\n",
       "      <td>148522</td>\n",
       "      <td>11th</td>\n",
       "      <td>7</td>\n",
       "      <td>Never-married</td>\n",
       "      <td>occupation</td>\n",
       "      <td>Own-child</td>\n",
       "      <td>White</td>\n",
       "      <td>Male</td>\n",
       "      <td>United-States</td>\n",
       "      <td>&lt;=50K</td>\n",
       "    </tr>\n",
       "    <tr>\n",
       "      <th>1</th>\n",
       "      <td>17</td>\n",
       "      <td>Private</td>\n",
       "      <td>93235</td>\n",
       "      <td>12th</td>\n",
       "      <td>8</td>\n",
       "      <td>Never-married</td>\n",
       "      <td>occupation</td>\n",
       "      <td>Own-child</td>\n",
       "      <td>White</td>\n",
       "      <td>Female</td>\n",
       "      <td>United-States</td>\n",
       "      <td>&lt;=50K</td>\n",
       "    </tr>\n",
       "    <tr>\n",
       "      <th>2</th>\n",
       "      <td>17</td>\n",
       "      <td>Private</td>\n",
       "      <td>184924</td>\n",
       "      <td>9th</td>\n",
       "      <td>5</td>\n",
       "      <td>Never-married</td>\n",
       "      <td>occupation</td>\n",
       "      <td>Own-child</td>\n",
       "      <td>White</td>\n",
       "      <td>Male</td>\n",
       "      <td>United-States</td>\n",
       "      <td>&lt;=50K</td>\n",
       "    </tr>\n",
       "    <tr>\n",
       "      <th>3</th>\n",
       "      <td>17</td>\n",
       "      <td>Private</td>\n",
       "      <td>116626</td>\n",
       "      <td>11th</td>\n",
       "      <td>7</td>\n",
       "      <td>Never-married</td>\n",
       "      <td>occupation</td>\n",
       "      <td>Own-child</td>\n",
       "      <td>White</td>\n",
       "      <td>Male</td>\n",
       "      <td>United-States</td>\n",
       "      <td>&lt;=50K</td>\n",
       "    </tr>\n",
       "    <tr>\n",
       "      <th>4</th>\n",
       "      <td>17</td>\n",
       "      <td>Private</td>\n",
       "      <td>209949</td>\n",
       "      <td>11th</td>\n",
       "      <td>7</td>\n",
       "      <td>Never-married</td>\n",
       "      <td>occupation</td>\n",
       "      <td>Own-child</td>\n",
       "      <td>White</td>\n",
       "      <td>Female</td>\n",
       "      <td>United-States</td>\n",
       "      <td>&lt;=50K</td>\n",
       "    </tr>\n",
       "  </tbody>\n",
       "</table>\n",
       "</div>"
      ],
      "text/plain": [
       "   age workclass  fnlwgt education  education.num marital.status  occupation  \\\n",
       "0   17   Private  148522      11th              7  Never-married  occupation   \n",
       "1   17   Private   93235      12th              8  Never-married  occupation   \n",
       "2   17   Private  184924       9th              5  Never-married  occupation   \n",
       "3   17   Private  116626      11th              7  Never-married  occupation   \n",
       "4   17   Private  209949      11th              7  Never-married  occupation   \n",
       "\n",
       "  relationship   race     sex native.country income  \n",
       "0    Own-child  White    Male  United-States  <=50K  \n",
       "1    Own-child  White  Female  United-States  <=50K  \n",
       "2    Own-child  White    Male  United-States  <=50K  \n",
       "3    Own-child  White    Male  United-States  <=50K  \n",
       "4    Own-child  White  Female  United-States  <=50K  "
      ]
     },
     "execution_count": 3,
     "metadata": {},
     "output_type": "execute_result"
    }
   ],
   "source": [
    "#getting the first 5 content of our data\n",
    "data.head()"
   ]
  },
  {
   "cell_type": "code",
   "execution_count": 4,
   "id": "4bdfd432-aaa7-4436-9081-e99ff6b3e2b5",
   "metadata": {},
   "outputs": [
    {
     "data": {
      "text/plain": [
       "(31947, 12)"
      ]
     },
     "execution_count": 4,
     "metadata": {},
     "output_type": "execute_result"
    }
   ],
   "source": [
    "#getting the shape\n",
    "data.shape"
   ]
  },
  {
   "cell_type": "code",
   "execution_count": 5,
   "id": "1dbbdb3e-adbb-47ee-9ddd-fbe7232514f9",
   "metadata": {},
   "outputs": [
    {
     "name": "stdout",
     "output_type": "stream",
     "text": [
      "<class 'pandas.core.frame.DataFrame'>\n",
      "RangeIndex: 31947 entries, 0 to 31946\n",
      "Data columns (total 12 columns):\n",
      " #   Column          Non-Null Count  Dtype \n",
      "---  ------          --------------  ----- \n",
      " 0   age             31947 non-null  int64 \n",
      " 1   workclass       31947 non-null  object\n",
      " 2   fnlwgt          31947 non-null  int64 \n",
      " 3   education       31947 non-null  object\n",
      " 4   education.num   31947 non-null  int64 \n",
      " 5   marital.status  31947 non-null  object\n",
      " 6   occupation      31947 non-null  object\n",
      " 7   relationship    31947 non-null  object\n",
      " 8   race            31947 non-null  object\n",
      " 9   sex             31947 non-null  object\n",
      " 10  native.country  31947 non-null  object\n",
      " 11  income          31947 non-null  object\n",
      "dtypes: int64(3), object(9)\n",
      "memory usage: 2.9+ MB\n"
     ]
    }
   ],
   "source": [
    "#getting the information summary on our dataset\n",
    "data.info()"
   ]
  },
  {
   "cell_type": "code",
   "execution_count": 6,
   "id": "9502cd7b-0a4c-448d-8ba4-df1e8805e7dc",
   "metadata": {},
   "outputs": [
    {
     "data": {
      "text/plain": [
       "age               0\n",
       "workclass         0\n",
       "fnlwgt            0\n",
       "education         0\n",
       "education.num     0\n",
       "marital.status    0\n",
       "occupation        0\n",
       "relationship      0\n",
       "race              0\n",
       "sex               0\n",
       "native.country    0\n",
       "income            0\n",
       "dtype: int64"
      ]
     },
     "execution_count": 6,
     "metadata": {},
     "output_type": "execute_result"
    }
   ],
   "source": [
    "#checking to see if we have missing values in our dataset\n",
    "data.isnull().sum()"
   ]
  },
  {
   "cell_type": "markdown",
   "id": "fa2762b3-a874-4df9-b541-53430e3ea6ef",
   "metadata": {},
   "source": [
    "Fortunately we have no missing values if we did we will have to use the SimpleImputer from the scikit-learn library to fill up our missing values. "
   ]
  }
 ],
 "metadata": {
  "kernelspec": {
   "display_name": "Python 3 (ipykernel)",
   "language": "python",
   "name": "python3"
  },
  "language_info": {
   "codemirror_mode": {
    "name": "ipython",
    "version": 3
   },
   "file_extension": ".py",
   "mimetype": "text/x-python",
   "name": "python",
   "nbconvert_exporter": "python",
   "pygments_lexer": "ipython3",
   "version": "3.10.13"
  }
 },
 "nbformat": 4,
 "nbformat_minor": 5
}
