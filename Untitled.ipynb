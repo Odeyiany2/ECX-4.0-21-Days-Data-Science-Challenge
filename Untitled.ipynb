{
 "cells": [
  {
   "cell_type": "code",
   "execution_count": null,
   "id": "b3b6d478-12c1-4ea2-9f4d-6bd6dd93beb4",
   "metadata": {},
   "outputs": [],
   "source": [
    "#getting the statistics summary on our dataset\n",
    "data.describe()"
   ]
  },
  {
   "cell_type": "code",
   "execution_count": null,
   "id": "07eb8673-49af-421d-bf64-b874afb19deb",
   "metadata": {},
   "outputs": [],
   "source": [
    "Below are the names of each column: 5.1 : Sepal Length 3.5: Sepal Width 1.4: Petal Length 0.2: Petal Width\n",
    "\n",
    "In the next cell of code will be changing the names\n",
    "\n"
   ]
  },
  {
   "cell_type": "code",
   "execution_count": null,
   "id": "0ba32a24-07da-48d8-8111-eca6bf65a681",
   "metadata": {},
   "outputs": [],
   "source": [
    "#map for new column names\n",
    "new_col_names = {\n",
    "    \"5.1\": \"Sepal_length\",\n",
    "    \"3.5\": \"Sepal_width\",\n",
    "    \"1.4\": \"Petal_length\",\n",
    "    \"0.2\": \"Petal_width\"\n",
    "}"
   ]
  },
  {
   "cell_type": "code",
   "execution_count": null,
   "id": "4bdce1f0-d636-470a-be8d-22865f4e8e82",
   "metadata": {},
   "outputs": [],
   "source": [
    "# Rename columns using the rename() function\n",
    "data.rename(columns=new_col_names, inplace=True)"
   ]
  },
  {
   "cell_type": "code",
   "execution_count": null,
   "id": "6efd9bc7-606e-4fe0-b1b4-a339d067422d",
   "metadata": {},
   "outputs": [],
   "source": [
    "data.head()"
   ]
  },
  {
   "cell_type": "code",
   "execution_count": null,
   "id": "da0c05b8-b910-406c-8cd9-4ff3fecfa015",
   "metadata": {},
   "outputs": [],
   "source": [
    "#visualizing the features in our dataset\n",
    "df = data.drop(\"Iris-setosa\", axis = 1)\n",
    "for col in df.columns:\n",
    "    sns.histplot(data = df, x = col, kde = True)\n",
    "    plt.title(f\"Distribution of {col}\")\n",
    "    plt.show();"
   ]
  },
  {
   "cell_type": "code",
   "execution_count": null,
   "id": "115c7b4d-6876-465e-aaf0-67d349063196",
   "metadata": {},
   "outputs": [],
   "source": [
    "for col in df.columns:\n",
    "    sns.boxplot(data = df, x = col)\n",
    "    plt.title(f\"Distribution of {col}\")\n",
    "    plt.show();"
   ]
  },
  {
   "cell_type": "code",
   "execution_count": null,
   "id": "a42c313c-5da7-4361-bfaf-dc8f1c4f991e",
   "metadata": {},
   "outputs": [],
   "source": [
    "Okay so we have bit of outlier in our sepal_width column, we will also have to use a scaler to normalize our numerical features"
   ]
  }
 ],
 "metadata": {
  "kernelspec": {
   "display_name": "Python 3 (ipykernel)",
   "language": "python",
   "name": "python3"
  },
  "language_info": {
   "codemirror_mode": {
    "name": "ipython",
    "version": 3
   },
   "file_extension": ".py",
   "mimetype": "text/x-python",
   "name": "python",
   "nbconvert_exporter": "python",
   "pygments_lexer": "ipython3",
   "version": "3.10.13"
  }
 },
 "nbformat": 4,
 "nbformat_minor": 5
}
